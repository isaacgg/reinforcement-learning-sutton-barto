{
 "cells": [
  {
   "cell_type": "markdown",
   "id": "d4871304",
   "metadata": {},
   "source": [
    "![alt text](./resources/figure_5_1.png \"Blackjack example\")"
   ]
  },
  {
   "cell_type": "markdown",
   "id": "864fcfb6",
   "metadata": {},
   "source": [
    "**Exercise 5.1** Consider the diagrams on the right in Figure 5.1. Why does the estimated\n",
    "value function jump up for the last two rows in the rear? Why does it drop off for the\n",
    "whole last row on the left? Why are the frontmost values higher in the upper diagrams\n",
    "than in the lower?"
   ]
  },
  {
   "cell_type": "markdown",
   "id": "76a10867",
   "metadata": {},
   "source": [
    "1. Because our policy is to *stick* above or equal 20, these would be the best states in which we could be.\n",
    "2. It drop off for the last row of the left because dealer showing an A has the worst odds for the player.\n",
    "3. Because having an usable Ace gives you more options (so a greater state value) than not having it."
   ]
  },
  {
   "cell_type": "markdown",
   "id": "81683fe5",
   "metadata": {},
   "source": [
    "**Exercise 5.2** Suppose every-visit MC was used instead of first-visit MC on the blackjack\n",
    "task. Would you expect the results to be very different? Why or why not?"
   ]
  },
  {
   "cell_type": "markdown",
   "id": "12a39ce7",
   "metadata": {},
   "source": [
    "I wouldn't expect them to be very different because in any ccase, and with enough examples, the averga value would converge to $v_\\pi(s)$"
   ]
  },
  {
   "cell_type": "markdown",
   "id": "607b7bd3",
   "metadata": {},
   "source": [
    "**Exercise 5.3** What is the backup diagram for Monte Carlo estimation of $q_\\pi$?"
   ]
  }
 ],
 "metadata": {
  "kernelspec": {
   "display_name": "Python 3 (ipykernel)",
   "language": "python",
   "name": "python3"
  },
  "language_info": {
   "codemirror_mode": {
    "name": "ipython",
    "version": 3
   },
   "file_extension": ".py",
   "mimetype": "text/x-python",
   "name": "python",
   "nbconvert_exporter": "python",
   "pygments_lexer": "ipython3",
   "version": "3.9.12"
  }
 },
 "nbformat": 4,
 "nbformat_minor": 5
}
