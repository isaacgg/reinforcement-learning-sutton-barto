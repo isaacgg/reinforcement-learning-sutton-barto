{
 "cells": [
  {
   "cell_type": "markdown",
   "id": "ff50fee2",
   "metadata": {},
   "source": [
    "## Exercises"
   ]
  },
  {
   "cell_type": "markdown",
   "id": "8c388891",
   "metadata": {
    "solution2": "shown",
    "solution2_first": true
   },
   "source": [
    "**Exercise 2.1** In the comparison shown in Figure 2.1, which method will perform\n",
    "best in the long run in terms of cumulative reward and cumulative probability of\n",
    "selecting the best action? How much better will it be? Express your answer quantitatively."
   ]
  },
  {
   "cell_type": "markdown",
   "id": "a37a9f98",
   "metadata": {
    "solution2": "shown"
   },
   "source": [
    "When $t\\rightarrow\\infty$, $Q_t(a) = q_*(a) \\quad \\forall \\: a \\: in \\: A$\n",
    "\n",
    "When $\\varepsilon = 0 \\quad \\Rightarrow \\quad$ \n",
    "\\begin{align*}\n",
    "P(a_{greedy}) = \\varepsilon \\frac{1}{k} + (1-\\varepsilon) = 1 \\newline\n",
    "\\mathbb{E}[R] = P(a_{greedy})\\mathbb{E}[R_{greedy}] + (1-P(a_{greedy}))\\mathbb{E}[R_{\\tilde{greedy}}] = \\mathbb{E}[R_{greedy}]\n",
    "\\end{align*}\n",
    "\n",
    "When $\\varepsilon = 0.1 \\quad \\Rightarrow \\quad$ \n",
    "\\begin{align*}\n",
    "P(a_{greedy}) = \\varepsilon \\frac{1}{k} + (1-\\varepsilon) = 0.91 \\newline\n",
    "\\mathbb{E}[R] = P(a_{greedy})\\mathbb{E}[R_{greedy}] + (1-P(a_{greedy}))\\mathbb{E}[R_{\\tilde{greedy}}] = 0.91\\mathbb{E}[R_{greedy}]\n",
    "\\end{align*}\n",
    "\n",
    "When $\\varepsilon = 0.01 \\quad \\Rightarrow \\quad$ \n",
    "\\begin{align*}\n",
    "P(a_{greedy}) = \\varepsilon \\frac{1}{k} + (1-\\varepsilon) = 0.991 \\newline\n",
    "\\mathbb{E}[R] = P(a_{greedy})\\mathbb{E}[R_{greedy}] + (1-P(a_{greedy}))\\mathbb{E}[R_{\\tilde{greedy}}] = 0.991\\mathbb{E}[R_{greedy}]\n",
    "\\end{align*}\n",
    "\n",
    "Asuming $\\mathbb{E}[R_{\\tilde{greedy}}] = 0$"
   ]
  },
  {
   "cell_type": "markdown",
   "id": "de1748fa",
   "metadata": {
    "solution2": "shown",
    "solution2_first": true
   },
   "source": [
    "**Exercise 2.2** Give pseudocode for a complete algorithm for the n-armed\n",
    "bandit problem. Use greedy action selection and incremental computation of\n",
    "action values with $\\alpha = \\frac{1}{k}$ step-size parameter. Assume a function bandit(a)\n",
    "that takes an action and returns a reward. Use arrays and variables; do not \n",
    "subscript anything by the time index t (for examples of this style of pseudocode, \n",
    "see Figures 4.1 and 4.3). Indicate how the action values are initialized\n",
    "and updated after each reward. Indicate how the step-size parameters are set\n",
    "for each action as a function of how many times it has been tried."
   ]
  },
  {
   "cell_type": "markdown",
   "id": "420d8567",
   "metadata": {
    "ExecuteTime": {
     "end_time": "2022-04-23T12:00:00.113913Z",
     "start_time": "2022-04-23T12:00:00.088926Z"
    },
    "solution2": "shown"
   },
   "source": [
    "\n",
    "$$\n",
    "Initialize: \\\\\n",
    "    \\quad Q(a) = 0 \\quad \\forall \\: a \\: in \\: Actions \\\\\n",
    "Repeat: \\\\\n",
    "    if random() < \\varepsilon:\\\\\n",
    "        ``# random exploration`` \\\\\n",
    "        a \\leftarrow random.choice(Actions) \\\\\n",
    "    else \\\\\n",
    "        ``# explotation`` \\\\\n",
    "        a \\leftarrow argmax(Q(Actions)) \\\\\n",
    "    endif \\\\\n",
    "    R = bandit(a) \\\\\n",
    "    Q(a) = \\alpha (R - Q(a))\n",
    "$$\n"
   ]
  },
  {
   "cell_type": "markdown",
   "id": "32c9ca17",
   "metadata": {
    "solution2": "shown",
    "solution2_first": true
   },
   "source": [
    "**Exercise 2.3** If the step-size parameters, $\\alpha_k$, are not constant, then the estimate $Q_k$\n",
    "is a weighted average of previously received rewards with a weighting\n",
    "different from that given by (2.6). What is the weighting on each prior reward\n",
    "for the general case, analogous to (2.6), in terms of $\\alpha_k$?"
   ]
  },
  {
   "cell_type": "markdown",
   "id": "42ed2ce4",
   "metadata": {
    "ExecuteTime": {
     "end_time": "2022-04-23T14:44:01.576793Z",
     "start_time": "2022-04-23T14:44:01.569795Z"
    },
    "solution2": "shown"
   },
   "source": [
    "$Q_{n+1} = Q_n + \\alpha_n(R_n-Q_n) = Q_n + \\alpha_n R_n-\\alpha_n Q_n = \\alpha_n R_n + Q_n(1-\\alpha_n)$\n",
    "\n",
    "Knowing: $Q_n = Q_{n-1}+\\alpha_{n-1}(R_{n-1}-Q_{n-1}) \\\\$\n",
    "$Q_{n+1} = \\alpha_n R_n + (1-\\alpha_n)[Q_{n-1}+\\alpha_{n-1}(R_{n-1}-Q_{n-1})] = \\alpha_n R_n + (1-\\alpha_n)[Q_{n-1}+\\alpha_{n-1}(R_{n-1}-Q_{n-1})] = \\alpha_n R_n + (1-\\alpha_n)[\\alpha_{n-1}R_{n-1}+Q_{n-1}(1-\\alpha_{n-1})]$\n",
    "\n",
    "$Q_{n+1} = \\alpha_n R_n + (1-\\alpha_n)\\alpha_{n-1} R_{n-1} + (1-\\alpha_n)(1-\\alpha_{n-1})Q_{n-1}$\n",
    "\n",
    "$Q_{n+1} = \\alpha_n R_n + (1-\\alpha_n)\\alpha_{n-1} R_{n-1} + (1-\\alpha_n)(1-\\alpha_{n-1})[Q_{n-2}+\\alpha_{n-2}(R_{n-2}-Q_{n-2})]$\n",
    "\n",
    "$Q_{n+1} = \\alpha_n R_n + (1-\\alpha_n)\\alpha_{n-1} R_{n-1} + (1-\\alpha_n)(1-\\alpha_{n-1})\\alpha_{n-2}R_{n-2} + (1-\\alpha_n)(1-\\alpha_{n-1})(1-\\alpha_{n-2})Q_{n-2}$\n",
    "\n",
    "$$Q_{n+1} = \\sum_{k=0}^n f(k,n)\\alpha_k R_k$$\n",
    "\n",
    "Where:\n",
    "$f(k,n) = \n",
    "\\begin{cases}\n",
    "    \\prod_{i=k+1}^n(1-\\alpha_i),& \\text{if } k+1\\leq n\\\\\n",
    "    1,              & \\text{otherwise}\n",
    "\\end{cases}$"
   ]
  },
  {
   "cell_type": "markdown",
   "id": "a5defa5e",
   "metadata": {
    "solution2": "shown",
    "solution2_first": true
   },
   "source": [
    "**Exercise 2.4** (programming) Design and conduct an experiment to demonstrate the difficulties\n",
    "that sample-average methods have for nonstationary\n",
    "problems. Use a modified version of the 10-armed testbed in which all the\n",
    "$q(a)$ start out equal and then take independent random walks. Prepare plots\n",
    "like Figure 2.1 for an action-value method using sample averages, \n",
    "incrementally computed by $\\alpha = \\frac{1}{k}$, and another action-value method \n",
    "using a constant step-size parameter, $\\alpha = 0.1$. Use $\\varepsilon = 0.1$ and, \n",
    "if necessary, runs longer than 1000 plays."
   ]
  },
  {
   "cell_type": "code",
   "execution_count": null,
   "id": "66e95298",
   "metadata": {
    "solution2": "shown"
   },
   "outputs": [],
   "source": []
  },
  {
   "cell_type": "markdown",
   "id": "e32689c8",
   "metadata": {
    "solution2": "shown",
    "solution2_first": true
   },
   "source": [
    "**Exercise 2.5** The results shown in Figure 2.2 should be quite reliable \n",
    "because they are averages over 2000 individual, randomly chosen 10-armed bandit tasks. \n",
    "Why, then, are there oscillations and spikes in the early part of\n",
    "the curve for the optimistic method? What might make this method perform\n",
    "particularly better or worse, on average, on particular early plays?"
   ]
  },
  {
   "cell_type": "markdown",
   "id": "80d42697",
   "metadata": {
    "solution2": "shown"
   },
   "source": [
    "This happens because we are copmuting $Q(a)$ taking into account the initial $Q_0$.\n",
    "\n",
    "At first, the algorithm will be dissapointed with respect to $Q_0$. It will have a lower expectation for all actions, compare to $Q_0$, but still far from its true values. \n",
    "Still, the best action will have a slighly higher $Q$ value, so it should try it more often (that's the 40% spike), and this action will be lowering its $Q(a)$ until it's close to its true value, along with the rest.\n",
    "We then will have all actions close to its real $q(a)$, because we have sample it all several times.\n",
    "\n",
    "If we don't want to have these spikes we would have to ignore $Q_0$ in the sample averga method. (One way to do this in my code is set the initial $N$ to 0)"
   ]
  },
  {
   "cell_type": "markdown",
   "id": "06e1dcab",
   "metadata": {
    "solution2": "shown",
    "solution2_first": true
   },
   "source": [
    "**Exercise 2.6** Suppose you face a binary bandit task whose true action values\n",
    "change randomly from play to play. Specifically, suppose that for any play the\n",
    "true values of actions 1 and 2 are respectively 0.1 and 0.2 with probability 0.5\n",
    "(case A), and 0.9 and 0.8 with probability 0.5 (case B). If you are not able to\n",
    "tell which case you face at any play, what is the best expectation of success\n",
    "you can achieve and how should you behave to achieve it? Now suppose that\n",
    "on each play you are told if you are facing case A or case B (although you still\n",
    "don’t know the true action values). This is an associative search task. What\n",
    "is the best expectation of success you can achieve in this task, and how should\n",
    "you behave to achieve it?"
   ]
  },
  {
   "cell_type": "code",
   "execution_count": null,
   "id": "abf8b1c7",
   "metadata": {
    "solution2": "shown"
   },
   "outputs": [],
   "source": []
  }
 ],
 "metadata": {
  "kernelspec": {
   "display_name": "Python 3 (ipykernel)",
   "language": "python",
   "name": "python3"
  },
  "language_info": {
   "codemirror_mode": {
    "name": "ipython",
    "version": 3
   },
   "file_extension": ".py",
   "mimetype": "text/x-python",
   "name": "python",
   "nbconvert_exporter": "python",
   "pygments_lexer": "ipython3",
   "version": "3.9.7"
  }
 },
 "nbformat": 4,
 "nbformat_minor": 5
}
