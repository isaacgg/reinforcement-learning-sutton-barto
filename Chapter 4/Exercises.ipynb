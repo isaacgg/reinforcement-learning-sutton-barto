{
 "cells": [
  {
   "cell_type": "markdown",
   "id": "ca84ed22",
   "metadata": {},
   "source": [
    "![alt text](./resources/ex_4_1.png \"Gridworld example\")"
   ]
  },
  {
   "cell_type": "markdown",
   "id": "b37ff3b6",
   "metadata": {},
   "source": [
    "**Exercise 4.1** In Example 4.1, if $\\pi$ is the equiprobable random policy, what is $q_\\pi(11, down)$?\n",
    "What is $q_\\pi(7, down)$?"
   ]
  },
  {
   "cell_type": "markdown",
   "id": "9f4ccab1",
   "metadata": {},
   "source": [
    ">$q_\\pi(11, down) = \\sum_{r,s'}p(s',r|s,a)[r + \\gamma \\sum_{a \\in \\mathbb{A}}p(a|s) q(s',a)]$\n",
    "\n"
   ]
  },
  {
   "cell_type": "markdown",
   "id": "c457c841",
   "metadata": {},
   "source": [
    "**Exercise 4.2** In Example 4.1, suppose a new state 15 is added to the gridworld just below\n",
    "state 13, and its actions, *left*, *up*, *right*, and *down*, take the agent to states *12*, *13*, *14*, and *15*, respectively. Assume that the transitions from the original states are unchanged.\n",
    "What, then, is $v_\\pi(15)$ for the equiprobable random policy? Now suppose the dynamics of\n",
    "state 13 are also changed, such that action down from state 13 takes the agent to the new\n",
    "state 15. What is $v_\\pi(15)$ for the equiprobable random policy in this case?"
   ]
  },
  {
   "cell_type": "markdown",
   "id": "f5c8846e",
   "metadata": {},
   "source": [
    "**Exercise 4.3** What are the equations analogous to (4.3), (4.4), and (4.5), but for actionvalue functions instead of state-value functions?"
   ]
  },
  {
   "cell_type": "markdown",
   "id": "cac0ac56",
   "metadata": {},
   "source": [
    "**Exercise 4.4** The policy iteration algorithm on page 80 has a subtle bug in that it may\n",
    "never terminate if the policy continually switches between two or more policies that are\n",
    "equally good. This is okay for pedagogy, but not for actual use. Modify the pseudocode\n",
    "so that convergence is guaranteed."
   ]
  },
  {
   "cell_type": "markdown",
   "id": "a3f4c3c0",
   "metadata": {},
   "source": [
    "**Exercise 4.5** How would policy iteration be defined for action values? Give a complete\n",
    "algorithm for computing $q$, analogous to that on page 80 for computing $v$. Please pay\n",
    "special attention to this exercise, because the ideas involved will be used throughout the\n",
    "rest of the book."
   ]
  },
  {
   "cell_type": "markdown",
   "id": "9d461bc2",
   "metadata": {},
   "source": [
    "**Exercise 4.6** Suppose you are restricted to considering only policies that are $\\epsilon-soft$,\n",
    "meaning that the probability of selecting each action in each state, $s$, is at least $\\epsilon/|A(s)|$.\n",
    "Describe qualitatively the changes that would be required in each of the steps 3, 2, and 1,\n",
    "in that order, of the policy iteration algorithm for $v$ on page 80."
   ]
  },
  {
   "cell_type": "markdown",
   "id": "1454104f",
   "metadata": {},
   "source": [
    "**Exercise 4.7** (programming) Write a program for policy iteration and re-solve Jack’s car\n",
    "rental problem with the following changes. One of Jack’s employees at the first location\n",
    "rides a bus home each night and lives near the second location. She is happy to shuttle\n",
    "one car to the second location for free. Each additional car still costs \\\\$2, as do all cars\n",
    "moved in the other direction. In addition, Jack has limited parking space at each location.\n",
    "If more than 10 cars are kept overnight at a location (after any moving of cars), then an\n",
    "additional cost of \\\\$4 must be incurred to use a second parking lot (independent of how\n",
    "many cars are kept there). \n",
    "These sorts of nonlinearities and arbitrary dynamics often\n",
    "occur in real problems and cannot easily be handled by optimization methods other than\n",
    "dynamic programming. To check your program, first replicate the results given for the\n",
    "original problem."
   ]
  },
  {
   "cell_type": "code",
   "execution_count": null,
   "id": "a167fd71",
   "metadata": {},
   "outputs": [],
   "source": []
  }
 ],
 "metadata": {
  "kernelspec": {
   "display_name": "Python 3 (ipykernel)",
   "language": "python",
   "name": "python3"
  },
  "language_info": {
   "codemirror_mode": {
    "name": "ipython",
    "version": 3
   },
   "file_extension": ".py",
   "mimetype": "text/x-python",
   "name": "python",
   "nbconvert_exporter": "python",
   "pygments_lexer": "ipython3",
   "version": "3.9.7"
  }
 },
 "nbformat": 4,
 "nbformat_minor": 5
}
